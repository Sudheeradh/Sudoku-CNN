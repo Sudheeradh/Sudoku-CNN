{
  "nbformat": 4,
  "nbformat_minor": 0,
  "metadata": {
    "colab": {
      "name": "CNN model for sudoku digit recognition.ipynb",
      "provenance": [],
      "mount_file_id": "1huGyVQ1o-oLQ9TDFYneLbmKP2HjtLbax",
      "authorship_tag": "ABX9TyOhC3sGfZmG4LZjz+5QgaI4",
      "include_colab_link": true
    },
    "kernelspec": {
      "name": "python3",
      "display_name": "Python 3"
    },
    "accelerator": "GPU"
  },
  "cells": [
    {
      "cell_type": "markdown",
      "metadata": {
        "id": "view-in-github",
        "colab_type": "text"
      },
      "source": [
        "<a href=\"https://colab.research.google.com/github/Sudheeradh/Sudoku-CNN/blob/master/CNN_model_for_sudoku_digit_recognition.ipynb\" target=\"_parent\"><img src=\"https://colab.research.google.com/assets/colab-badge.svg\" alt=\"Open In Colab\"/></a>"
      ]
    },
    {
      "cell_type": "code",
      "metadata": {
        "id": "6bSyj0fJzWOT",
        "colab_type": "code",
        "colab": {}
      },
      "source": [
        "import os\n",
        "import zipfile"
      ],
      "execution_count": null,
      "outputs": []
    },
    {
      "cell_type": "code",
      "metadata": {
        "id": "pQZ1rdO7zrK-",
        "colab_type": "code",
        "colab": {
          "base_uri": "https://localhost:8080/",
          "height": 35
        },
        "outputId": "39be0f2f-9325-4be7-8a87-21b5797048dc"
      },
      "source": [
        "pwd\n"
      ],
      "execution_count": null,
      "outputs": [
        {
          "output_type": "execute_result",
          "data": {
            "application/vnd.google.colaboratory.intrinsic+json": {
              "type": "string"
            },
            "text/plain": [
              "'/content'"
            ]
          },
          "metadata": {
            "tags": []
          },
          "execution_count": 2
        }
      ]
    },
    {
      "cell_type": "code",
      "metadata": {
        "id": "QjajVXg8f7Cp",
        "colab_type": "code",
        "colab": {}
      },
      "source": [
        "!unzip dataset_sudoku2.zip"
      ],
      "execution_count": null,
      "outputs": []
    },
    {
      "cell_type": "code",
      "metadata": {
        "id": "U2BOFWPj1typ",
        "colab_type": "code",
        "colab": {
          "base_uri": "https://localhost:8080/",
          "height": 1000
        },
        "outputId": "c1c06254-0593-4c37-9b56-2fb653ef0fcb"
      },
      "source": [
        "import tensorflow as tf\n",
        "import keras_preprocessing\n",
        "from keras_preprocessing import image\n",
        "from keras_preprocessing.image import ImageDataGenerator\n",
        "\n",
        "TRAINING_DIR = \"/content/dataset_sudoku2/\"\n",
        "training_datagen = ImageDataGenerator(\n",
        "      rescale = 1./255)\n",
        "\n",
        "train_generator = training_datagen.flow_from_directory(\n",
        "\tTRAINING_DIR,\n",
        "\ttarget_size=(28,28),\n",
        "\tclass_mode='categorical',\n",
        "  color_mode='grayscale',\n",
        "  batch_size=126\n",
        ")\n",
        "\n",
        "model = tf.keras.models.Sequential([\n",
        "    # Input shape is the desired size of the image 28x28 with Grayscale color\n",
        "    # This is the first convolution\n",
        "    tf.keras.layers.Conv2D(16, (3,3), activation='relu', input_shape=(28, 28, 1)),\n",
        "    tf.keras.layers.MaxPooling2D(2, 2),\n",
        "    # The second convolution\n",
        "    tf.keras.layers.Conv2D(32, (3,3), activation='relu'),\n",
        "    tf.keras.layers.MaxPooling2D(2,2),\n",
        "    tf.keras.layers.MaxPooling2D(2,2),\n",
        "    #Flatten the results to feed into a DNN\n",
        "    tf.keras.layers.Flatten(),\n",
        "    # 128 neuron hidden layer\n",
        "    tf.keras.layers.Dense(128, activation='relu'),\n",
        "    # 64 neuron hidden layer\n",
        "    tf.keras.layers.Dense(64, activation='relu'),\n",
        "    # 32 neuron hidden layer\n",
        "    tf.keras.layers.Dense(32, activation='relu'),\n",
        "    # 10 neurons with softmax activation for classification of 10 digits\n",
        "    tf.keras.layers.Dense(10, activation='softmax')\n",
        "])\n",
        "\n",
        "\n",
        "\n",
        "\n",
        "model.summary()\n",
        "\n",
        "model.compile(loss = 'categorical_crossentropy', optimizer='adam', metrics=['accuracy'])\n",
        "\n",
        "history = model.fit(train_generator, epochs=100, verbose = 1)\n",
        "\n",
        "model.save(\"digit_recog_su.h5\")\n"
      ],
      "execution_count": null,
      "outputs": [
        {
          "output_type": "stream",
          "text": [
            "Found 1470 images belonging to 10 classes.\n",
            "Model: \"sequential_3\"\n",
            "_________________________________________________________________\n",
            "Layer (type)                 Output Shape              Param #   \n",
            "=================================================================\n",
            "conv2d_6 (Conv2D)            (None, 26, 26, 16)        160       \n",
            "_________________________________________________________________\n",
            "max_pooling2d_9 (MaxPooling2 (None, 13, 13, 16)        0         \n",
            "_________________________________________________________________\n",
            "conv2d_7 (Conv2D)            (None, 11, 11, 32)        4640      \n",
            "_________________________________________________________________\n",
            "max_pooling2d_10 (MaxPooling (None, 5, 5, 32)          0         \n",
            "_________________________________________________________________\n",
            "max_pooling2d_11 (MaxPooling (None, 2, 2, 32)          0         \n",
            "_________________________________________________________________\n",
            "flatten_3 (Flatten)          (None, 128)               0         \n",
            "_________________________________________________________________\n",
            "dense_12 (Dense)             (None, 128)               16512     \n",
            "_________________________________________________________________\n",
            "dense_13 (Dense)             (None, 64)                8256      \n",
            "_________________________________________________________________\n",
            "dense_14 (Dense)             (None, 32)                2080      \n",
            "_________________________________________________________________\n",
            "dense_15 (Dense)             (None, 10)                330       \n",
            "=================================================================\n",
            "Total params: 31,978\n",
            "Trainable params: 31,978\n",
            "Non-trainable params: 0\n",
            "_________________________________________________________________\n",
            "Epoch 1/100\n",
            "12/12 [==============================] - 1s 42ms/step - loss: 2.2319 - accuracy: 0.2544\n",
            "Epoch 2/100\n",
            "12/12 [==============================] - 0s 41ms/step - loss: 2.1109 - accuracy: 0.2667\n",
            "Epoch 3/100\n",
            "12/12 [==============================] - 0s 39ms/step - loss: 1.9370 - accuracy: 0.3014\n",
            "Epoch 4/100\n",
            "12/12 [==============================] - 1s 42ms/step - loss: 1.7863 - accuracy: 0.3503\n",
            "Epoch 5/100\n",
            "12/12 [==============================] - 0s 41ms/step - loss: 1.7030 - accuracy: 0.3592\n",
            "Epoch 6/100\n",
            "12/12 [==============================] - 0s 38ms/step - loss: 1.6501 - accuracy: 0.3844\n",
            "Epoch 7/100\n",
            "12/12 [==============================] - 0s 39ms/step - loss: 1.6009 - accuracy: 0.3925\n",
            "Epoch 8/100\n",
            "12/12 [==============================] - 0s 40ms/step - loss: 1.5585 - accuracy: 0.3946\n",
            "Epoch 9/100\n",
            "12/12 [==============================] - 0s 40ms/step - loss: 1.5135 - accuracy: 0.4102\n",
            "Epoch 10/100\n",
            "12/12 [==============================] - 0s 39ms/step - loss: 1.4697 - accuracy: 0.4388\n",
            "Epoch 11/100\n",
            "12/12 [==============================] - 0s 39ms/step - loss: 1.4261 - accuracy: 0.4551\n",
            "Epoch 12/100\n",
            "12/12 [==============================] - 0s 40ms/step - loss: 1.3695 - accuracy: 0.4952\n",
            "Epoch 13/100\n",
            "12/12 [==============================] - 0s 39ms/step - loss: 1.3123 - accuracy: 0.5068\n",
            "Epoch 14/100\n",
            "12/12 [==============================] - 0s 39ms/step - loss: 1.2490 - accuracy: 0.5381\n",
            "Epoch 15/100\n",
            "12/12 [==============================] - 0s 41ms/step - loss: 1.1848 - accuracy: 0.5687\n",
            "Epoch 16/100\n",
            "12/12 [==============================] - 0s 41ms/step - loss: 1.1234 - accuracy: 0.5810\n",
            "Epoch 17/100\n",
            "12/12 [==============================] - 1s 42ms/step - loss: 1.0610 - accuracy: 0.6340\n",
            "Epoch 18/100\n",
            "12/12 [==============================] - 0s 39ms/step - loss: 1.0135 - accuracy: 0.6442\n",
            "Epoch 19/100\n",
            "12/12 [==============================] - 0s 40ms/step - loss: 0.9668 - accuracy: 0.6762\n",
            "Epoch 20/100\n",
            "12/12 [==============================] - 0s 42ms/step - loss: 0.9363 - accuracy: 0.6796\n",
            "Epoch 21/100\n",
            "12/12 [==============================] - 0s 40ms/step - loss: 0.8733 - accuracy: 0.7231\n",
            "Epoch 22/100\n",
            "12/12 [==============================] - 0s 40ms/step - loss: 0.8644 - accuracy: 0.7150\n",
            "Epoch 23/100\n",
            "12/12 [==============================] - 0s 39ms/step - loss: 0.8305 - accuracy: 0.7122\n",
            "Epoch 24/100\n",
            "12/12 [==============================] - 0s 41ms/step - loss: 0.7959 - accuracy: 0.7327\n",
            "Epoch 25/100\n",
            "12/12 [==============================] - 0s 39ms/step - loss: 0.7467 - accuracy: 0.7571\n",
            "Epoch 26/100\n",
            "12/12 [==============================] - 0s 40ms/step - loss: 0.7135 - accuracy: 0.7741\n",
            "Epoch 27/100\n",
            "12/12 [==============================] - 0s 41ms/step - loss: 0.6976 - accuracy: 0.7714\n",
            "Epoch 28/100\n",
            "12/12 [==============================] - 0s 39ms/step - loss: 0.6724 - accuracy: 0.7857\n",
            "Epoch 29/100\n",
            "12/12 [==============================] - 1s 42ms/step - loss: 0.6453 - accuracy: 0.8020\n",
            "Epoch 30/100\n",
            "12/12 [==============================] - 0s 40ms/step - loss: 0.6172 - accuracy: 0.8156\n",
            "Epoch 31/100\n",
            "12/12 [==============================] - 0s 41ms/step - loss: 0.5992 - accuracy: 0.8122\n",
            "Epoch 32/100\n",
            "12/12 [==============================] - 0s 40ms/step - loss: 0.5723 - accuracy: 0.8313\n",
            "Epoch 33/100\n",
            "12/12 [==============================] - 0s 38ms/step - loss: 0.5789 - accuracy: 0.8170\n",
            "Epoch 34/100\n",
            "12/12 [==============================] - 0s 41ms/step - loss: 0.5477 - accuracy: 0.8211\n",
            "Epoch 35/100\n",
            "12/12 [==============================] - 0s 40ms/step - loss: 0.5013 - accuracy: 0.8483\n",
            "Epoch 36/100\n",
            "12/12 [==============================] - 0s 40ms/step - loss: 0.4923 - accuracy: 0.8435\n",
            "Epoch 37/100\n",
            "12/12 [==============================] - 0s 41ms/step - loss: 0.4625 - accuracy: 0.8619\n",
            "Epoch 38/100\n",
            "12/12 [==============================] - 0s 40ms/step - loss: 0.4456 - accuracy: 0.8728\n",
            "Epoch 39/100\n",
            "12/12 [==============================] - 0s 40ms/step - loss: 0.4547 - accuracy: 0.8585\n",
            "Epoch 40/100\n",
            "12/12 [==============================] - 0s 39ms/step - loss: 0.4347 - accuracy: 0.8660\n",
            "Epoch 41/100\n",
            "12/12 [==============================] - 0s 40ms/step - loss: 0.4243 - accuracy: 0.8680\n",
            "Epoch 42/100\n",
            "12/12 [==============================] - 1s 42ms/step - loss: 0.4317 - accuracy: 0.8619\n",
            "Epoch 43/100\n",
            "12/12 [==============================] - 0s 41ms/step - loss: 0.4101 - accuracy: 0.8769\n",
            "Epoch 44/100\n",
            "12/12 [==============================] - 0s 38ms/step - loss: 0.3710 - accuracy: 0.8966\n",
            "Epoch 45/100\n",
            "12/12 [==============================] - 0s 40ms/step - loss: 0.3640 - accuracy: 0.8905\n",
            "Epoch 46/100\n",
            "12/12 [==============================] - 0s 38ms/step - loss: 0.3637 - accuracy: 0.8810\n",
            "Epoch 47/100\n",
            "12/12 [==============================] - 0s 39ms/step - loss: 0.3557 - accuracy: 0.8959\n",
            "Epoch 48/100\n",
            "12/12 [==============================] - 0s 40ms/step - loss: 0.3428 - accuracy: 0.8966\n",
            "Epoch 49/100\n",
            "12/12 [==============================] - 0s 39ms/step - loss: 0.3333 - accuracy: 0.9041\n",
            "Epoch 50/100\n",
            "12/12 [==============================] - 0s 40ms/step - loss: 0.3193 - accuracy: 0.9054\n",
            "Epoch 51/100\n",
            "12/12 [==============================] - 0s 41ms/step - loss: 0.3295 - accuracy: 0.9027\n",
            "Epoch 52/100\n",
            "12/12 [==============================] - 0s 41ms/step - loss: 0.3414 - accuracy: 0.8864\n",
            "Epoch 53/100\n",
            "12/12 [==============================] - 0s 39ms/step - loss: 0.3103 - accuracy: 0.9102\n",
            "Epoch 54/100\n",
            "12/12 [==============================] - 0s 41ms/step - loss: 0.2974 - accuracy: 0.9034\n",
            "Epoch 55/100\n",
            "12/12 [==============================] - 0s 39ms/step - loss: 0.2824 - accuracy: 0.9163\n",
            "Epoch 56/100\n",
            "12/12 [==============================] - 0s 40ms/step - loss: 0.2864 - accuracy: 0.9007\n",
            "Epoch 57/100\n",
            "12/12 [==============================] - 0s 40ms/step - loss: 0.2853 - accuracy: 0.9190\n",
            "Epoch 58/100\n",
            "12/12 [==============================] - 0s 40ms/step - loss: 0.2905 - accuracy: 0.9027\n",
            "Epoch 59/100\n",
            "12/12 [==============================] - 0s 41ms/step - loss: 0.2587 - accuracy: 0.9245\n",
            "Epoch 60/100\n",
            "12/12 [==============================] - 0s 40ms/step - loss: 0.2442 - accuracy: 0.9333\n",
            "Epoch 61/100\n",
            "12/12 [==============================] - 0s 41ms/step - loss: 0.2380 - accuracy: 0.9306\n",
            "Epoch 62/100\n",
            "12/12 [==============================] - 0s 40ms/step - loss: 0.2259 - accuracy: 0.9333\n",
            "Epoch 63/100\n",
            "12/12 [==============================] - 0s 41ms/step - loss: 0.2266 - accuracy: 0.9340\n",
            "Epoch 64/100\n",
            "12/12 [==============================] - 0s 40ms/step - loss: 0.2273 - accuracy: 0.9299\n",
            "Epoch 65/100\n",
            "12/12 [==============================] - 0s 41ms/step - loss: 0.2326 - accuracy: 0.9272\n",
            "Epoch 66/100\n",
            "12/12 [==============================] - 0s 40ms/step - loss: 0.2180 - accuracy: 0.9374\n",
            "Epoch 67/100\n",
            "12/12 [==============================] - 0s 40ms/step - loss: 0.2003 - accuracy: 0.9415\n",
            "Epoch 68/100\n",
            "12/12 [==============================] - 0s 39ms/step - loss: 0.1912 - accuracy: 0.9435\n",
            "Epoch 69/100\n",
            "12/12 [==============================] - 0s 39ms/step - loss: 0.1879 - accuracy: 0.9490\n",
            "Epoch 70/100\n",
            "12/12 [==============================] - 0s 40ms/step - loss: 0.1822 - accuracy: 0.9435\n",
            "Epoch 71/100\n",
            "12/12 [==============================] - 0s 40ms/step - loss: 0.1931 - accuracy: 0.9435\n",
            "Epoch 72/100\n",
            "12/12 [==============================] - 0s 40ms/step - loss: 0.1926 - accuracy: 0.9388\n",
            "Epoch 73/100\n",
            "12/12 [==============================] - 0s 39ms/step - loss: 0.1716 - accuracy: 0.9503\n",
            "Epoch 74/100\n",
            "12/12 [==============================] - 0s 40ms/step - loss: 0.1665 - accuracy: 0.9537\n",
            "Epoch 75/100\n",
            "12/12 [==============================] - 0s 40ms/step - loss: 0.1630 - accuracy: 0.9497\n",
            "Epoch 76/100\n",
            "12/12 [==============================] - 0s 40ms/step - loss: 0.1636 - accuracy: 0.9483\n",
            "Epoch 77/100\n",
            "12/12 [==============================] - 0s 39ms/step - loss: 0.1563 - accuracy: 0.9531\n",
            "Epoch 78/100\n",
            "12/12 [==============================] - 0s 40ms/step - loss: 0.1433 - accuracy: 0.9585\n",
            "Epoch 79/100\n",
            "12/12 [==============================] - 0s 39ms/step - loss: 0.1420 - accuracy: 0.9558\n",
            "Epoch 80/100\n",
            "12/12 [==============================] - 0s 41ms/step - loss: 0.1445 - accuracy: 0.9585\n",
            "Epoch 81/100\n",
            "12/12 [==============================] - 0s 40ms/step - loss: 0.1416 - accuracy: 0.9558\n",
            "Epoch 82/100\n",
            "12/12 [==============================] - 0s 42ms/step - loss: 0.1663 - accuracy: 0.9463\n",
            "Epoch 83/100\n",
            "12/12 [==============================] - 0s 40ms/step - loss: 0.1400 - accuracy: 0.9612\n",
            "Epoch 84/100\n",
            "12/12 [==============================] - 0s 38ms/step - loss: 0.1319 - accuracy: 0.9599\n",
            "Epoch 85/100\n",
            "12/12 [==============================] - 0s 39ms/step - loss: 0.1200 - accuracy: 0.9694\n",
            "Epoch 86/100\n",
            "12/12 [==============================] - 0s 39ms/step - loss: 0.1233 - accuracy: 0.9653\n",
            "Epoch 87/100\n",
            "12/12 [==============================] - 0s 39ms/step - loss: 0.1122 - accuracy: 0.9694\n",
            "Epoch 88/100\n",
            "12/12 [==============================] - 0s 41ms/step - loss: 0.1075 - accuracy: 0.9721\n",
            "Epoch 89/100\n",
            "12/12 [==============================] - 0s 39ms/step - loss: 0.1056 - accuracy: 0.9714\n",
            "Epoch 90/100\n",
            "12/12 [==============================] - 0s 39ms/step - loss: 0.0982 - accuracy: 0.9769\n",
            "Epoch 91/100\n",
            "12/12 [==============================] - 0s 40ms/step - loss: 0.0970 - accuracy: 0.9796\n",
            "Epoch 92/100\n",
            "12/12 [==============================] - 0s 40ms/step - loss: 0.0935 - accuracy: 0.9789\n",
            "Epoch 93/100\n",
            "12/12 [==============================] - 0s 41ms/step - loss: 0.0986 - accuracy: 0.9741\n",
            "Epoch 94/100\n",
            "12/12 [==============================] - 0s 40ms/step - loss: 0.1000 - accuracy: 0.9741\n",
            "Epoch 95/100\n",
            "12/12 [==============================] - 0s 39ms/step - loss: 0.0900 - accuracy: 0.9755\n",
            "Epoch 96/100\n",
            "12/12 [==============================] - 0s 40ms/step - loss: 0.0844 - accuracy: 0.9803\n",
            "Epoch 97/100\n",
            "12/12 [==============================] - 0s 40ms/step - loss: 0.0853 - accuracy: 0.9816\n",
            "Epoch 98/100\n",
            "12/12 [==============================] - 0s 40ms/step - loss: 0.0767 - accuracy: 0.9850\n",
            "Epoch 99/100\n",
            "12/12 [==============================] - 0s 41ms/step - loss: 0.0773 - accuracy: 0.9789\n",
            "Epoch 100/100\n",
            "12/12 [==============================] - 0s 39ms/step - loss: 0.0796 - accuracy: 0.9823\n"
          ],
          "name": "stdout"
        }
      ]
    },
    {
      "cell_type": "code",
      "metadata": {
        "id": "SmuVwR1L2k_d",
        "colab_type": "code",
        "colab": {
          "resources": {
            "http://localhost:8080/nbextensions/google.colab/files.js": {
              "data": "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",
              "ok": true,
              "headers": [
                [
                  "content-type",
                  "application/javascript"
                ]
              ],
              "status": 200,
              "status_text": ""
            }
          },
          "base_uri": "https://localhost:8080/",
          "height": 194
        },
        "outputId": "f7f6886c-32eb-4327-d009-dc0b283dc576"
      },
      "source": [
        "import numpy as np\n",
        "from google.colab import files\n",
        "from keras.preprocessing import image\n",
        "\n",
        "uploaded = files.upload()\n",
        "\n",
        "for fn in uploaded.keys():\n",
        " \n",
        "  # predicting images\n",
        "  path = fn\n",
        "  img = image.load_img(path, target_size=(28, 28), grayscale = True)\n",
        "  x = image.img_to_array(img)\n",
        "  x = np.expand_dims(x, axis=0)\n",
        "\n",
        "  images = np.vstack([x])\n",
        "  classes = model.predict(images, batch_size=10)\n",
        "  print(fn)\n",
        "  print(images.shape)\n",
        "  print(classes)\n",
        "  print(np.argmax(classes))"
      ],
      "execution_count": null,
      "outputs": [
        {
          "output_type": "display_data",
          "data": {
            "text/html": [
              "\n",
              "     <input type=\"file\" id=\"files-ef90d7f3-8161-4e2a-9d80-bcee087955fe\" name=\"files[]\" multiple disabled\n",
              "        style=\"border:none\" />\n",
              "     <output id=\"result-ef90d7f3-8161-4e2a-9d80-bcee087955fe\">\n",
              "      Upload widget is only available when the cell has been executed in the\n",
              "      current browser session. Please rerun this cell to enable.\n",
              "      </output>\n",
              "      <script src=\"/nbextensions/google.colab/files.js\"></script> "
            ],
            "text/plain": [
              "<IPython.core.display.HTML object>"
            ]
          },
          "metadata": {
            "tags": []
          }
        },
        {
          "output_type": "stream",
          "text": [
            "Saving 1_3_16.jpg to 1_3_16.jpg\n",
            "1_3_16.jpg\n",
            "(1, 28, 28, 1)\n",
            "[[0. 0. 0. 0. 0. 0. 0. 1. 0. 0.]]\n",
            "7\n"
          ],
          "name": "stdout"
        },
        {
          "output_type": "stream",
          "text": [
            "/usr/local/lib/python3.6/dist-packages/keras_preprocessing/image/utils.py:107: UserWarning: grayscale is deprecated. Please use color_mode = \"grayscale\"\n",
            "  warnings.warn('grayscale is deprecated. Please use '\n"
          ],
          "name": "stderr"
        }
      ]
    },
    {
      "cell_type": "code",
      "metadata": {
        "id": "Y1uxfoSQ6ADl",
        "colab_type": "code",
        "colab": {}
      },
      "source": [
        ""
      ],
      "execution_count": null,
      "outputs": []
    }
  ]
}